{
 "cells": [
  {
   "cell_type": "code",
   "execution_count": 1,
   "id": "5aebb9ec",
   "metadata": {},
   "outputs": [
    {
     "ename": "FileNotFoundError",
     "evalue": "[Errno 2] No such file or directory: 'user.json'",
     "output_type": "error",
     "traceback": [
      "\u001b[1;31m---------------------------------------------------------------------------\u001b[0m",
      "\u001b[1;31mFileNotFoundError\u001b[0m                         Traceback (most recent call last)",
      "\u001b[1;32mC:\\Users\\KUNALC~1\\AppData\\Local\\Temp/ipykernel_5536/960743931.py\u001b[0m in \u001b[0;36m<module>\u001b[1;34m\u001b[0m\n\u001b[0;32m    197\u001b[0m \u001b[1;33m\u001b[0m\u001b[0m\n\u001b[0;32m    198\u001b[0m \u001b[1;31m# print(register.__doc__)\u001b[0m\u001b[1;33m\u001b[0m\u001b[1;33m\u001b[0m\u001b[0m\n\u001b[1;32m--> 199\u001b[1;33m \u001b[0mregister\u001b[0m\u001b[1;33m(\u001b[0m\u001b[1;34m\"user.json\"\u001b[0m\u001b[1;33m,\u001b[0m\u001b[1;34m\"5479\"\u001b[0m\u001b[1;33m,\u001b[0m \u001b[1;34m\"Sanvi\"\u001b[0m\u001b[1;33m,\u001b[0m \u001b[1;34m\"password\"\u001b[0m\u001b[1;33m,\u001b[0m \u001b[1;34m\"20\"\u001b[0m\u001b[1;33m,\u001b[0m \u001b[1;34m\"anvi07@gmail.com\"\u001b[0m\u001b[1;33m,\u001b[0m \u001b[1;34m\"8745897965\"\u001b[0m\u001b[1;33m)\u001b[0m\u001b[1;33m\u001b[0m\u001b[1;33m\u001b[0m\u001b[0m\n\u001b[0m",
      "\u001b[1;32mC:\\Users\\KUNALC~1\\AppData\\Local\\Temp/ipykernel_5536/960743931.py\u001b[0m in \u001b[0;36mregister\u001b[1;34m(user_json, user_id, name, password, age, email, phone)\u001b[0m\n\u001b[0;32m     41\u001b[0m         \u001b[1;34m\"booked shows\"\u001b[0m\u001b[1;33m:\u001b[0m \u001b[1;33m[\u001b[0m\u001b[1;33m]\u001b[0m\u001b[1;33m\u001b[0m\u001b[1;33m\u001b[0m\u001b[0m\n\u001b[0;32m     42\u001b[0m     }\n\u001b[1;32m---> 43\u001b[1;33m     \u001b[0mf\u001b[0m \u001b[1;33m=\u001b[0m \u001b[0mopen\u001b[0m\u001b[1;33m(\u001b[0m\u001b[0muser_json\u001b[0m\u001b[1;33m,\u001b[0m \u001b[1;34m\"r+\"\u001b[0m\u001b[1;33m)\u001b[0m\u001b[1;33m\u001b[0m\u001b[1;33m\u001b[0m\u001b[0m\n\u001b[0m\u001b[0;32m     44\u001b[0m     \u001b[1;32mtry\u001b[0m\u001b[1;33m:\u001b[0m\u001b[1;33m\u001b[0m\u001b[1;33m\u001b[0m\u001b[0m\n\u001b[0;32m     45\u001b[0m         \u001b[0mcontent\u001b[0m \u001b[1;33m=\u001b[0m \u001b[0mjson\u001b[0m\u001b[1;33m.\u001b[0m\u001b[0mload\u001b[0m\u001b[1;33m(\u001b[0m\u001b[0mf\u001b[0m\u001b[1;33m)\u001b[0m \u001b[1;31m# it is a list\u001b[0m\u001b[1;33m\u001b[0m\u001b[1;33m\u001b[0m\u001b[0m\n",
      "\u001b[1;31mFileNotFoundError\u001b[0m: [Errno 2] No such file or directory: 'user.json'"
     ]
    }
   ],
   "source": [
    "# Create a python project which will enable to make a simple movie booking system\n",
    "#  we will restrict ourselves to just booking the ticket and show ticket.\n",
    "\"\"\"\n",
    "    Functionalities: movie selection, add movie, \n",
    "    buy ticket(\n",
    "        row and seat number, language, location, discount\n",
    "        ), show movie timing,\n",
    "    snack purchase, register user, login user, show ticket history\n",
    "    Agenda:\n",
    "    1) register\n",
    "    2) login\n",
    "    3) add show/movie\n",
    "    4) book ticket\n",
    "    5) show booked ticket history\n",
    "    6) show all the movies\n",
    "\"\"\"\n",
    "import json\n",
    "from json import JSONDecodeError\n",
    "def register(user_json, user_id, name, password, age, email, phone): # user_json\n",
    "    \"\"\"\n",
    "    returns True if registration is successful\n",
    "    returns False if registration is unsuccessful\n",
    "    \n",
    "    {\n",
    "    \"user_id\": <id>,\n",
    "    \"name\": <name>,\n",
    "    \"password\": <password>,\n",
    "    \"email\": <email>,\n",
    "    \"phone\": <phn>,\n",
    "    \"age\": <age>,\n",
    "    \"booked shows\": [\"id1\", \"id2\", \"id3\"]  # it will contain the history of the shows user booked\n",
    "    }\n",
    "    \"\"\"\n",
    "    d = {\n",
    "        \"user_id\": user_id,\n",
    "        \"name\": name,\n",
    "        \"password\": password,\n",
    "        \"email\": email,\n",
    "        \"phone\": phone,\n",
    "        \"age\": age,\n",
    "        \"booked shows\": []\n",
    "    }\n",
    "    f = open(user_json, \"r+\")\n",
    "    try:\n",
    "        content = json.load(f) # it is a list\n",
    "        if d not in content:\n",
    "            content.append(d)\n",
    "            f.seek(0)\n",
    "            f.truncate()\n",
    "            json.dump(content, f)\n",
    "            f.close()\n",
    "            return True\n",
    "    except JSONDecodeError:\n",
    "        l = []\n",
    "        l.append(d)\n",
    "        json.dump(l, f)\n",
    "        f.close()\n",
    "        return True\n",
    "    f.close()\n",
    "    return False\n",
    "\n",
    "def login(user_json, email_id, password):\n",
    "    \"\"\"\n",
    "    return True if login is success\n",
    "    return false if login is Failed\n",
    "    \"\"\"\n",
    "    f=open(user_json, \"r+\")\n",
    "    try:\n",
    "        content = json.load(f)\n",
    "    except JSONDecodeError:\n",
    "        return False\n",
    "    f.close()\n",
    "    d=0\n",
    "    for i in range(len(content)):\n",
    "        if content[i][\"email\"] == email_id and content[i][\"password\"] == password:\n",
    "            d=1\n",
    "            break\n",
    "    if d==1:\n",
    "        return True\n",
    "    return False\n",
    "\n",
    "def add_movie(movie_json, movie_id, movie_name, duration, price):\n",
    "    \"\"\"\n",
    "    add_movie function adds the new movie\n",
    "    \n",
    "    return:\n",
    "        True if movie was successfully added\n",
    "        False if movie addition failed\n",
    "    \"\"\"\n",
    "    d = {\n",
    "        \"movie_id\": movie_id,\n",
    "        \"name\": movie_name,\n",
    "        \"seating\": 25,\n",
    "        \"price\": price,\n",
    "        \"booked_seats\": []\n",
    "    }\n",
    "    f=open(movie_json, \"r+\")\n",
    "    try:\n",
    "        content=json.load(f)\n",
    "        if d not in content:\n",
    "            content.append(d)\n",
    "            f.seek(0)\n",
    "            f.truncate()\n",
    "            json.dump(content, f)\n",
    "            f.close()\n",
    "            return True\n",
    "        else:\n",
    "            print(\"Booking for this movie has already started\")\n",
    "            f.close()\n",
    "            return False\n",
    "    except JSONDecodeError:\n",
    "        l=[]\n",
    "        l.append(d)\n",
    "        json.dump(l, f)\n",
    "    f.close()\n",
    "    return True\n",
    "\n",
    "def book_ticket(movie_json, user_json, email, tkt_id, no_of_booking, prefered_seat=[]):\n",
    "    \"\"\"\n",
    "    book_ticket function reservs a seat for the user corresponding to the no of seats they want\n",
    "    return:\n",
    "        True if booking was successful\n",
    "        False if booking was unsuccessful\n",
    "    \"\"\"\n",
    "    # open the movie_json\n",
    "    f = open(movie_json, \"r+\")\n",
    "    content = json.load(f)\n",
    "    count = 0\n",
    "    for i in range(len(content)):\n",
    "        if content[i][\"movie_id\"]==tkt_id:\n",
    "            movie_show=content[i]\n",
    "            seat_booked=len(movie_show[\"booked_seats\"])\n",
    "            number_of_seat = 25-seat_booked\n",
    "            count+=1\n",
    "            break\n",
    "    if count==0:\n",
    "        return False\n",
    "    \n",
    "    # open the user_json\n",
    "    f1=open(user_json, \"r+\")\n",
    "    content1=json.load(f1)\n",
    "    count=0\n",
    "    for i in range(len(content)):\n",
    "        if content1[i][\"email\"] == email:\n",
    "            user=content1[i]\n",
    "            count+=1\n",
    "            break\n",
    "    if count==0:\n",
    "        return False\n",
    "\n",
    "    # Seating Arrengement\n",
    "    #   A  B  C  D  E\n",
    "    # 1 A1 B1 C1 D1 E1\n",
    "    # 2 A2 B2 C2 D2 E2\n",
    "    # 3 A3 B3 C3 D3 E3\n",
    "    # 4 A4 B4 C4 D4 E4\n",
    "    # 5 A5 B5 C5 D5 E5\n",
    "\n",
    "    # Recollect the available seats\n",
    "    seats=[]\n",
    "    for row in range(1,6):\n",
    "        for col in range(ord(\"A\"), ord(\"E\")+1):\n",
    "            if chr(col)+str(row) not in movie_show[\"booked_seats\"]:\n",
    "                seats.append(chr(col)+str(row))\n",
    "    # Booking Process\n",
    "    if number_of_seat >= no_of_booking:\n",
    "        for i in prefered_seat:\n",
    "            if i not in seats:\n",
    "                return False\n",
    "        \n",
    "        if prefered_seat:\n",
    "            movie_show[\"booked_seats\"].extend(prefered_seat)\n",
    "            user[\"booked shows\"].append(tkt_id)\n",
    "        else:\n",
    "            movie_show[\"booked_seats\"].extend(seats[:no_of_booking])\n",
    "            user[\"booked shows\"].append(tkt_id)\n",
    "    else:\n",
    "        return False\n",
    "    # closing file for user_json\n",
    "    for i in range(len(content1)):\n",
    "        if content1[i][\"email\"] == email:\n",
    "            content1[i][\"booked shows\"]=user[\"booked shows\"]\n",
    "            f1.seek(0)\n",
    "            f1.truncate()\n",
    "            json.dump(content1, f1)\n",
    "            f1.close()\n",
    "\n",
    "    # closing file for movie_json\n",
    "    for i in range(len(content)):\n",
    "        if content[i][\"movie_id\"]==tkt_id:\n",
    "            content[i][\"booked_seats\"]=movie_show[\"booked_seats\"]\n",
    "            f.seek(0)\n",
    "            f.truncate()\n",
    "            json.dump(content, f)\n",
    "            f.close()\n",
    "    return True\n",
    "        \n",
    "# print(register.__doc__)\n",
    "register(\"user.json\",\"5479\", \"Sanvi\", \"password\", \"20\", \"anvi07@gmail.com\", \"8745897965\")\n"
   ]
  },
  {
   "cell_type": "code",
   "execution_count": 4,
   "id": "c170d84a",
   "metadata": {},
   "outputs": [
    {
     "name": "stdout",
     "output_type": "stream",
     "text": [
      "2\n"
     ]
    }
   ],
   "source": [
    "c = 2\n",
    "print(f\"{c}\")"
   ]
  },
  {
   "cell_type": "code",
   "execution_count": 6,
   "id": "692c741a",
   "metadata": {},
   "outputs": [
    {
     "data": {
      "text/plain": [
       "{'name': 'sindhya'}"
      ]
     },
     "execution_count": 6,
     "metadata": {},
     "output_type": "execute_result"
    }
   ],
   "source": [
    "l = [{\"name\":\"sindhya\"},{\"name\":\"Suraj\"}]\n",
    "l[0]"
   ]
  },
  {
   "cell_type": "code",
   "execution_count": 7,
   "id": "f827bae1",
   "metadata": {},
   "outputs": [
    {
     "data": {
      "text/plain": [
       "dict"
      ]
     },
     "execution_count": 7,
     "metadata": {},
     "output_type": "execute_result"
    }
   ],
   "source": [
    "type(l[0])"
   ]
  },
  {
   "cell_type": "code",
   "execution_count": 8,
   "id": "b881bff6",
   "metadata": {},
   "outputs": [
    {
     "data": {
      "text/plain": [
       "list"
      ]
     },
     "execution_count": 8,
     "metadata": {},
     "output_type": "execute_result"
    }
   ],
   "source": [
    "type(l)"
   ]
  },
  {
   "cell_type": "code",
   "execution_count": 9,
   "id": "2d9dd8bb",
   "metadata": {},
   "outputs": [
    {
     "data": {
      "text/plain": [
       "'sindhya'"
      ]
     },
     "execution_count": 9,
     "metadata": {},
     "output_type": "execute_result"
    }
   ],
   "source": [
    "l[0][\"name\"]"
   ]
  },
  {
   "cell_type": "code",
   "execution_count": null,
   "id": "b902b7e2",
   "metadata": {},
   "outputs": [],
   "source": []
  }
 ],
 "metadata": {
  "kernelspec": {
   "display_name": "Python 3 (ipykernel)",
   "language": "python",
   "name": "python3"
  },
  "language_info": {
   "codemirror_mode": {
    "name": "ipython",
    "version": 3
   },
   "file_extension": ".py",
   "mimetype": "text/x-python",
   "name": "python",
   "nbconvert_exporter": "python",
   "pygments_lexer": "ipython3",
   "version": "3.9.7"
  }
 },
 "nbformat": 4,
 "nbformat_minor": 5
}
