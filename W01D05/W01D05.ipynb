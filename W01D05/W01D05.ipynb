{
 "cells": [
  {
   "cell_type": "code",
   "execution_count": 1,
   "id": "fad1e4ab",
   "metadata": {},
   "outputs": [],
   "source": [
    "import json\n",
    "f = open(\"student1.json\", \"r+\")"
   ]
  },
  {
   "cell_type": "code",
   "execution_count": 2,
   "id": "bcd68573",
   "metadata": {},
   "outputs": [
    {
     "name": "stdout",
     "output_type": "stream",
     "text": [
      "[{'name': 'Bheemesh'}]\n",
      "<class 'list'>\n"
     ]
    }
   ],
   "source": [
    "content1 = json.load(f)\n",
    "print(content1)\n",
    "print(type(content1))"
   ]
  },
  {
   "cell_type": "code",
   "execution_count": 3,
   "id": "19581bc1",
   "metadata": {},
   "outputs": [
    {
     "data": {
      "text/plain": [
       "21"
      ]
     },
     "execution_count": 3,
     "metadata": {},
     "output_type": "execute_result"
    }
   ],
   "source": [
    "f.tell()"
   ]
  },
  {
   "cell_type": "code",
   "execution_count": 4,
   "id": "d0595937",
   "metadata": {},
   "outputs": [
    {
     "name": "stdout",
     "output_type": "stream",
     "text": [
      "[{'name': 'Bheemesh'}, {'name': 'sumanth'}]\n"
     ]
    }
   ],
   "source": [
    "d = {\"name\": \"sumanth\"}\n",
    "content1.append(d)\n",
    "print(content1)"
   ]
  },
  {
   "cell_type": "code",
   "execution_count": 5,
   "id": "f5300fb2",
   "metadata": {},
   "outputs": [],
   "source": [
    "json.dump(content1, f)"
   ]
  },
  {
   "cell_type": "code",
   "execution_count": 6,
   "id": "7b00ca04",
   "metadata": {},
   "outputs": [],
   "source": [
    "f.close()"
   ]
  },
  {
   "cell_type": "code",
   "execution_count": null,
   "id": "18e03139",
   "metadata": {},
   "outputs": [],
   "source": []
  },
  {
   "cell_type": "code",
   "execution_count": 7,
   "id": "0d595dfc",
   "metadata": {},
   "outputs": [
    {
     "name": "stdout",
     "output_type": "stream",
     "text": [
      "[{'name': 'Anirudh'}]\n"
     ]
    }
   ],
   "source": [
    "f = open(\"student2.json\", \"r+\")\n",
    "content=json.load(f)\n",
    "print(content)"
   ]
  },
  {
   "cell_type": "code",
   "execution_count": 8,
   "id": "d7221ea2",
   "metadata": {},
   "outputs": [
    {
     "name": "stdout",
     "output_type": "stream",
     "text": [
      "[{'name': 'Anirudh'}, {'name': 'sumanth'}]\n"
     ]
    }
   ],
   "source": [
    "content.append(d)\n",
    "print(content)"
   ]
  },
  {
   "cell_type": "code",
   "execution_count": 9,
   "id": "662adbbb",
   "metadata": {},
   "outputs": [
    {
     "data": {
      "text/plain": [
       "20"
      ]
     },
     "execution_count": 9,
     "metadata": {},
     "output_type": "execute_result"
    }
   ],
   "source": [
    "f.tell()"
   ]
  },
  {
   "cell_type": "code",
   "execution_count": 10,
   "id": "83bbd0a0",
   "metadata": {},
   "outputs": [
    {
     "data": {
      "text/plain": [
       "20"
      ]
     },
     "execution_count": 10,
     "metadata": {},
     "output_type": "execute_result"
    }
   ],
   "source": [
    "f.truncate()"
   ]
  },
  {
   "cell_type": "code",
   "execution_count": 11,
   "id": "e2fb63e1",
   "metadata": {},
   "outputs": [
    {
     "data": {
      "text/plain": [
       "20"
      ]
     },
     "execution_count": 11,
     "metadata": {},
     "output_type": "execute_result"
    }
   ],
   "source": [
    "f.tell()"
   ]
  },
  {
   "cell_type": "code",
   "execution_count": 12,
   "id": "b4257157",
   "metadata": {},
   "outputs": [
    {
     "data": {
      "text/plain": [
       "19"
      ]
     },
     "execution_count": 12,
     "metadata": {},
     "output_type": "execute_result"
    }
   ],
   "source": [
    "f.seek(19)"
   ]
  },
  {
   "cell_type": "code",
   "execution_count": 13,
   "id": "64e08d42",
   "metadata": {},
   "outputs": [
    {
     "data": {
      "text/plain": [
       "19"
      ]
     },
     "execution_count": 13,
     "metadata": {},
     "output_type": "execute_result"
    }
   ],
   "source": [
    "f.tell()"
   ]
  },
  {
   "cell_type": "code",
   "execution_count": 14,
   "id": "4858a289",
   "metadata": {},
   "outputs": [
    {
     "data": {
      "text/plain": [
       "']'"
      ]
     },
     "execution_count": 14,
     "metadata": {},
     "output_type": "execute_result"
    }
   ],
   "source": [
    "f.read()"
   ]
  },
  {
   "cell_type": "code",
   "execution_count": 15,
   "id": "1cbd1d72",
   "metadata": {},
   "outputs": [
    {
     "data": {
      "text/plain": [
       "19"
      ]
     },
     "execution_count": 15,
     "metadata": {},
     "output_type": "execute_result"
    }
   ],
   "source": [
    "f.seek(19)\n",
    "f.truncate() # it truncates everything on the rught hand side of it"
   ]
  },
  {
   "cell_type": "code",
   "execution_count": 16,
   "id": "3108fd47",
   "metadata": {},
   "outputs": [
    {
     "data": {
      "text/plain": [
       "19"
      ]
     },
     "execution_count": 16,
     "metadata": {},
     "output_type": "execute_result"
    }
   ],
   "source": [
    "f.tell()"
   ]
  },
  {
   "cell_type": "code",
   "execution_count": 17,
   "id": "b8d3f8ac",
   "metadata": {},
   "outputs": [
    {
     "data": {
      "text/plain": [
       "''"
      ]
     },
     "execution_count": 17,
     "metadata": {},
     "output_type": "execute_result"
    }
   ],
   "source": [
    "f.read()"
   ]
  },
  {
   "cell_type": "code",
   "execution_count": 18,
   "id": "b3c67006",
   "metadata": {},
   "outputs": [],
   "source": [
    "f.close()"
   ]
  },
  {
   "cell_type": "code",
   "execution_count": 19,
   "id": "2e9c4610",
   "metadata": {},
   "outputs": [
    {
     "name": "stdout",
     "output_type": "stream",
     "text": [
      "[{'name': 'Anirudh'}, {'name': 'sumanth'}]\n"
     ]
    }
   ],
   "source": [
    "print(content)"
   ]
  },
  {
   "cell_type": "code",
   "execution_count": 20,
   "id": "403ab895",
   "metadata": {},
   "outputs": [],
   "source": [
    "f = open(\"student2.json\", \"r+\")"
   ]
  },
  {
   "cell_type": "code",
   "execution_count": 21,
   "id": "1e1be1f5",
   "metadata": {},
   "outputs": [
    {
     "data": {
      "text/plain": [
       "0"
      ]
     },
     "execution_count": 21,
     "metadata": {},
     "output_type": "execute_result"
    }
   ],
   "source": [
    "f.tell()"
   ]
  },
  {
   "cell_type": "code",
   "execution_count": 22,
   "id": "04b0e23d",
   "metadata": {},
   "outputs": [
    {
     "data": {
      "text/plain": [
       "'[{\"name\":\"Anirudh\"}'"
      ]
     },
     "execution_count": 22,
     "metadata": {},
     "output_type": "execute_result"
    }
   ],
   "source": [
    "f.read()"
   ]
  },
  {
   "cell_type": "code",
   "execution_count": 23,
   "id": "f91c6c43",
   "metadata": {},
   "outputs": [
    {
     "data": {
      "text/plain": [
       "19"
      ]
     },
     "execution_count": 23,
     "metadata": {},
     "output_type": "execute_result"
    }
   ],
   "source": [
    "f.tell()"
   ]
  },
  {
   "cell_type": "code",
   "execution_count": 25,
   "id": "953a31d5",
   "metadata": {},
   "outputs": [],
   "source": [
    "f.seek(0)\n",
    "f.truncate()\n",
    "json.dump(content, f)"
   ]
  },
  {
   "cell_type": "code",
   "execution_count": 26,
   "id": "1d0a7143",
   "metadata": {},
   "outputs": [],
   "source": [
    "f.close()"
   ]
  },
  {
   "cell_type": "code",
   "execution_count": null,
   "id": "de2dc260",
   "metadata": {},
   "outputs": [],
   "source": []
  },
  {
   "cell_type": "code",
   "execution_count": 27,
   "id": "5dab6310",
   "metadata": {},
   "outputs": [],
   "source": [
    "# |1 2 3|\n",
    "# |4 5 6|\n",
    "# |7 8 9|\n",
    "a = [[1, 2, 3], [4, 5, 6], [7, 8, 9]]"
   ]
  },
  {
   "cell_type": "code",
   "execution_count": 28,
   "id": "c1e45256",
   "metadata": {},
   "outputs": [],
   "source": [
    "l = []\n",
    "j = []\n",
    "for row in range(3):\n",
    "    for col in range(3):\n",
    "        j.append(col)\n",
    "    l.append(j)\n",
    "    j = []"
   ]
  },
  {
   "cell_type": "code",
   "execution_count": 30,
   "id": "0b62fefe",
   "metadata": {},
   "outputs": [
    {
     "name": "stdout",
     "output_type": "stream",
     "text": [
      "[[0, 1, 2], [0, 1, 2], [0, 1, 2]]\n"
     ]
    }
   ],
   "source": [
    "print(l)"
   ]
  },
  {
   "cell_type": "code",
   "execution_count": 38,
   "id": "b7cbac5d",
   "metadata": {},
   "outputs": [
    {
     "name": "stdout",
     "output_type": "stream",
     "text": [
      "[1] --> j\n",
      "[] --> l\n",
      "[1, 2] --> j\n",
      "[] --> l\n",
      "[1, 2, 3] --> j\n",
      "[] --> l\n",
      "[[1, 2, 3]] --> l\n",
      "[4] --> j\n",
      "[[1, 2, 3]] --> l\n",
      "[4, 5] --> j\n",
      "[[1, 2, 3]] --> l\n",
      "[4, 5, 6] --> j\n",
      "[[1, 2, 3]] --> l\n",
      "[[1, 2, 3], [4, 5, 6]] --> l\n",
      "[7] --> j\n",
      "[[1, 2, 3], [4, 5, 6]] --> l\n",
      "[7, 8] --> j\n",
      "[[1, 2, 3], [4, 5, 6]] --> l\n",
      "[7, 8, 9] --> j\n",
      "[[1, 2, 3], [4, 5, 6]] --> l\n",
      "[[1, 2, 3], [4, 5, 6], [7, 8, 9]] --> l\n"
     ]
    }
   ],
   "source": [
    "count = 0\n",
    "l = []\n",
    "j = []\n",
    "for row in range(3):\n",
    "    for col in range(3):\n",
    "        count+=1\n",
    "        j.append(count)\n",
    "        print(j,\"--> j\")\n",
    "        print(l,\"--> l\")\n",
    "    l.append(j)\n",
    "    print(l,\"--> l\")\n",
    "    j = []\n"
   ]
  },
  {
   "cell_type": "code",
   "execution_count": null,
   "id": "ca53e860",
   "metadata": {},
   "outputs": [],
   "source": []
  }
 ],
 "metadata": {
  "kernelspec": {
   "display_name": "Python 3 (ipykernel)",
   "language": "python",
   "name": "python3"
  },
  "language_info": {
   "codemirror_mode": {
    "name": "ipython",
    "version": 3
   },
   "file_extension": ".py",
   "mimetype": "text/x-python",
   "name": "python",
   "nbconvert_exporter": "python",
   "pygments_lexer": "ipython3",
   "version": "3.9.7"
  }
 },
 "nbformat": 4,
 "nbformat_minor": 5
}
