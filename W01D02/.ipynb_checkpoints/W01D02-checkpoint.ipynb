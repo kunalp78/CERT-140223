{
 "cells": [
  {
   "cell_type": "code",
   "execution_count": 1,
   "id": "8685cb0c",
   "metadata": {},
   "outputs": [
    {
     "name": "stdout",
     "output_type": "stream",
     "text": [
      "Main Menu: \n",
      "1) Login\n",
      "2) Register\n",
      "3) Quit\n",
      "Enter your choice between numbers 1-33\n"
     ]
    }
   ],
   "source": [
    "# Agenda:\n",
    "#     1) register\n",
    "#     2) login --> returns true is email and password are correct else return false\n",
    "#     3) add show/movie\n",
    "#     4) book ticket\n",
    "#     5) show booked ticket history\n",
    "#     6) show all the movies\n",
    "# a) class and object\n",
    "# b) functional 🆗\n",
    "\n",
    "# Menu\n",
    "enter = True\n",
    "while enter:\n",
    "    print(\"Main Menu: \")\n",
    "    print(\"1) Login\")\n",
    "    print(\"2) Register\")\n",
    "    print(\"3) Quit\")\n",
    "    val = input(\"Enter your choice between numbers 1-3\")\n",
    "    if val == \"3\":\n",
    "        break\n",
    "    elif val == \"1\":\n",
    "        email = input(\"Enter your email address: \")\n",
    "        paswd = input(\"Enter your password: \")\n",
    "        loginstatus = login(\"user.json\", email, password) #True\n",
    "        if loginstatus == False:\n",
    "            print(\"Invalid Credentials!!\")\n",
    "        else:\n",
    "            print(\"Logged in!\")\n",
    "        while loginstatus:\n",
    "            print(\"User Menu!\")\n",
    "            print(\"1) Show all movies!!\")\n",
    "            print(\"2) Show Booked Ticket History!!\")\n",
    "            print(\"3) Book Ticket\")\n",
    "            print(\"4) Quit\")\n",
    "            val = input(\"Enter your choice between 1-4: \")\n",
    "            if val == \"4\":\n",
    "                print(\"See you next time!!\")\n",
    "                break\n",
    "            elif val == \"1\":\n",
    "                print(\"Movie list!!\")\n",
    "            elif val == \"2\":\n",
    "                print(\"Show the history!!\")\n",
    "            elif val == \"3\":\n",
    "                print(\"Ticket Booked Successfully!!\")\n",
    "            else:\n",
    "                print(\"Enter correct choices between the numbers 1-4\")\n",
    "    elif val == \"2\":\n",
    "        # Name, password, dob, number, email, gender, age, location\n",
    "        print(\"Registration Successfull!!\")\n",
    "    else:\n",
    "        print(\"Enter correct choices between the numbers 1-3\")"
   ]
  },
  {
   "cell_type": "code",
   "execution_count": 2,
   "id": "1d349d80",
   "metadata": {},
   "outputs": [],
   "source": [
    "import json\n",
    "from json import JSONDecodeError\n",
    "def register(user_json, user_id, name, password, age, email, phone): # user_json\n",
    "    \"\"\"\n",
    "    returns True if registration is successful\n",
    "    returns False if registration is unsuccessful\n",
    "    \n",
    "    {\n",
    "    \"user_id\": <id>,\n",
    "    \"name\": <name>,\n",
    "    \"password\": <password>,\n",
    "    \"email\": <email>,\n",
    "    \"phone\": <phn>,\n",
    "    \"age\": <age>,\n",
    "    \"booked shows\": [\"id1\", \"id2\", \"id3\"]  # it will contain the history of the shows user booked\n",
    "    }\n",
    "    \"\"\"\n",
    "    d = {\n",
    "        \"user_id\": user_id,\n",
    "        \"name\": name,\n",
    "        \"password\": password,\n",
    "        \"email\": email,\n",
    "        \"phone\": phone,\n",
    "        \"age\": age,\n",
    "        \"booked shows\": []\n",
    "    }\n",
    "    f = open(user_json, \"r+\")\n",
    "    try:\n",
    "        content = json.load(f) # it is a list\n",
    "        if d not in content:\n",
    "            content.append(d)\n",
    "            f.seek(0)\n",
    "            f.truncate()\n",
    "            json.dump(content,f)\n",
    "            f.close()\n",
    "            return True\n",
    "    except JSONDecodeError:\n",
    "        l = []\n",
    "        l.append(d)\n",
    "        json.dump(l, f)\n",
    "        f.close()\n",
    "        return True\n",
    "    f.close()\n",
    "    return False"
   ]
  },
  {
   "cell_type": "code",
   "execution_count": 3,
   "id": "4b83bbb8",
   "metadata": {},
   "outputs": [
    {
     "data": {
      "text/plain": [
       "True"
      ]
     },
     "execution_count": 3,
     "metadata": {},
     "output_type": "execute_result"
    }
   ],
   "source": [
    "def login(user_json, email_id, password):\n",
    "    \"\"\"\n",
    "    return True if login is success\n",
    "    return false if login is Failed\n",
    "    \"\"\"\n",
    "    f=open(user_json, \"r+\")\n",
    "    try:\n",
    "        content = json.load(f)\n",
    "    except JSONDecodeError:\n",
    "        return False\n",
    "    f.close()\n",
    "    d=0\n",
    "    for i in range(len(content)):\n",
    "        if content[i][\"email\"] == email_id and content[i][\"password\"] == password:\n",
    "            d=1\n",
    "            break\n",
    "    if d==1:\n",
    "        return True\n",
    "    return False\n",
    "\n",
    "login(\"user.json\", \"anvi07@gmail.com\", \"password\")"
   ]
  },
  {
   "cell_type": "code",
   "execution_count": 4,
   "id": "f3079d2f",
   "metadata": {},
   "outputs": [
    {
     "data": {
      "text/plain": [
       "True"
      ]
     },
     "execution_count": 4,
     "metadata": {},
     "output_type": "execute_result"
    }
   ],
   "source": [
    "def add_movie(movie_json, movie_id, movie_name, duration, price):\n",
    "    \"\"\"\n",
    "    add_movie function adds the new movie\n",
    "    \n",
    "    return:\n",
    "        True if movie was successfully added\n",
    "        False if movie addition failed\n",
    "    \"\"\"\n",
    "    d = {\n",
    "        \"movie_id\": movie_id,\n",
    "        \"name\": movie_name,\n",
    "        \"seating\": 25,\n",
    "        \"price\": price,\n",
    "        \"booked_seats\": []\n",
    "    }\n",
    "    f=open(movie_json, \"r+\")\n",
    "    try:\n",
    "        content=json.load(f)\n",
    "        if d not in content:\n",
    "            content.append(d)\n",
    "            f.seek(0)\n",
    "            f.truncate()\n",
    "            json.dump(content, f)\n",
    "            f.close()\n",
    "            return True\n",
    "        else:\n",
    "            print(\"Booking for this movie has already started\")\n",
    "            f.close()\n",
    "            return False\n",
    "    except JSONDecodeError:\n",
    "        l=[]\n",
    "        l.append(d)\n",
    "        json.dump(l, f)\n",
    "    f.close()\n",
    "    return True\n",
    "\n",
    "add_movie(\"movie.json\", 1245, \"Pushpa\", \"2:15:00\", \"600\")\n",
    "        "
   ]
  },
  {
   "cell_type": "code",
   "execution_count": 25,
   "id": "4ae0e1c9",
   "metadata": {},
   "outputs": [],
   "source": [
    "def book_ticket(movie_json, user_json, email, tkt_id, no_of_booking, prefered_seat=[]):\n",
    "    \"\"\"\n",
    "    book_ticket function reservs a seat for the user corresponding to the no of seats they want\n",
    "    return:\n",
    "        True if booking was successful\n",
    "        False if booking was unsuccessful\n",
    "    \"\"\"\n",
    "    # open the movie_json\n",
    "    f = open(movie_json, \"r+\")\n",
    "    content = json.load(f)\n",
    "    count = 0\n",
    "    for i in range(len(content)):\n",
    "        if content[i][\"movie_id\"]==tkt_id:\n",
    "            movie_show=content[i]\n",
    "            seat_booked=len(movie_show[\"booked_seats\"])\n",
    "            number_of_seat = 25-seat_booked\n",
    "            count+=1\n",
    "            break\n",
    "    if count==0:\n",
    "        return False\n",
    "    \n",
    "    # open the user_json\n",
    "    f1=open(user_json, \"r+\")\n",
    "    content1=json.load(f1)\n",
    "    count=0\n",
    "    for i in range(len(content)):\n",
    "        if content1[i][\"email\"] == email:\n",
    "            user=content1[i]\n",
    "            count+=1\n",
    "            break\n",
    "    if count==0:\n",
    "        return False\n",
    "\n",
    "    # Seating Arrengement\n",
    "    #   A  B  C  D  E\n",
    "    # 1 A1 B1 C1 D1 E1\n",
    "    # 2 A2 B2 C2 D2 E2\n",
    "    # 3 A3 B3 C3 D3 E3\n",
    "    # 4 A4 B4 C4 D4 E4\n",
    "    # 5 A5 B5 C5 D5 E5\n",
    "\n",
    "    # Recollect the available seats\n",
    "    seats=[]\n",
    "    for row in range(1,6):\n",
    "        for col in range(ord(\"A\"), ord(\"E\")+1):\n",
    "            if chr(col)+str(row) not in movie_show[\"booked_seats\"]:\n",
    "                seats.append(chr(col)+str(row))\n",
    "    # Booking Process\n",
    "    if number_of_seat >= no_of_booking:\n",
    "        for i in prefered_seat:\n",
    "            if i not in seats:\n",
    "                return False\n",
    "        \n",
    "        if prefered_seat:\n",
    "            movie_show[\"booked_seats\"].extend(prefered_seat)\n",
    "            user[\"booked shows\"].append(tkt_id)\n",
    "        else:\n",
    "            movie_show[\"booked_seats\"].extend(seats[:no_of_booking])\n",
    "            user[\"booked shows\"].append(tkt_id)\n",
    "    else:\n",
    "        return False\n",
    "    # closing file for user_json\n",
    "    for i in range(len(content1)):\n",
    "        if content1[i][\"email\"] == email:\n",
    "            content1[i][\"booked shows\"]=user[\"booked shows\"]\n",
    "            f1.seek(0)\n",
    "            f1.truncate()\n",
    "            json.dump(content1, f1)\n",
    "            f1.close()\n",
    "\n",
    "    # closing file for movie_json\n",
    "    for i in range(len(content)):\n",
    "        if content[i][\"movie_id\"]==tkt_id:\n",
    "            content[i][\"booked_seats\"]=movie_show[\"booked_seats\"]\n",
    "            f.seek(0)\n",
    "            f.truncate()\n",
    "            json.dump(content, f)\n",
    "            f.close()\n",
    "    return True"
   ]
  },
  {
   "cell_type": "code",
   "execution_count": 28,
   "id": "dd819c45",
   "metadata": {},
   "outputs": [
    {
     "data": {
      "text/plain": [
       "False"
      ]
     },
     "execution_count": 28,
     "metadata": {},
     "output_type": "execute_result"
    }
   ],
   "source": [
    "book_ticket(\"movie.json\", \"user.json\", \"anvi07@gmail.com\", 1245, 1, [\"C3\"])"
   ]
  },
  {
   "cell_type": "code",
   "execution_count": 16,
   "id": "40591e95",
   "metadata": {},
   "outputs": [
    {
     "data": {
      "text/plain": [
       "True"
      ]
     },
     "execution_count": 16,
     "metadata": {},
     "output_type": "execute_result"
    }
   ],
   "source": [
    "register(\"user.json\",\"5479\", \"Sanvi\", \"password\", \"20\", \"anvi07@gmail.com\", \"8745897965\")"
   ]
  },
  {
   "cell_type": "code",
   "execution_count": null,
   "id": "7dd0bbc6",
   "metadata": {},
   "outputs": [],
   "source": []
  },
  {
   "cell_type": "code",
   "execution_count": null,
   "id": "7970880b",
   "metadata": {},
   "outputs": [],
   "source": []
  },
  {
   "cell_type": "code",
   "execution_count": null,
   "id": "709bc294",
   "metadata": {},
   "outputs": [],
   "source": []
  },
  {
   "cell_type": "code",
   "execution_count": 7,
   "id": "4cc1c02c",
   "metadata": {},
   "outputs": [
    {
     "name": "stdout",
     "output_type": "stream",
     "text": [
      "B  B  C1 B  B  \n",
      "A2 B2 B  B  E2 \n",
      "A3 B3 C3 D3 E3 \n",
      "A4 B4 C4 D4 E4 \n",
      "A5 B5 C5 D5 E5 \n"
     ]
    }
   ],
   "source": [
    "# Seating Arrengement\n",
    "#   A  B  C  D  E\n",
    "# 1 A1 B1 C1 D1 E1\n",
    "# 2 A2 B2 C2 D2 E2\n",
    "# 3 A3 B3 C3 D3 E3\n",
    "# 4 A4 B4 C4 D4 E4\n",
    "# 5 A5 B5 C5 D5 E5\n",
    "booked_seats = [\"D1\", \"E1\", \"A1\", \"B1\",\"C2\", \"D2\"]\n",
    "seats = []\n",
    "for col in range(1, 6):\n",
    "    for row in range(ord(\"A\"), ord(\"E\")+1):\n",
    "        if chr(row)+str(col) not in booked_seats:\n",
    "            print(chr(row)+str(col), end=\" \")\n",
    "        else:\n",
    "            print(\"B \", end=\" \")\n",
    "    print()"
   ]
  },
  {
   "cell_type": "code",
   "execution_count": null,
   "id": "98819e8a",
   "metadata": {},
   "outputs": [],
   "source": []
  }
 ],
 "metadata": {
  "kernelspec": {
   "display_name": "Python 3 (ipykernel)",
   "language": "python",
   "name": "python3"
  },
  "language_info": {
   "codemirror_mode": {
    "name": "ipython",
    "version": 3
   },
   "file_extension": ".py",
   "mimetype": "text/x-python",
   "name": "python",
   "nbconvert_exporter": "python",
   "pygments_lexer": "ipython3",
   "version": "3.9.7"
  }
 },
 "nbformat": 4,
 "nbformat_minor": 5
}
