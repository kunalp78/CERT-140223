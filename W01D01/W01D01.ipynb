{
 "cells": [
  {
   "cell_type": "code",
   "execution_count": 1,
   "id": "a3481eea",
   "metadata": {},
   "outputs": [
    {
     "name": "stdout",
     "output_type": "stream",
     "text": [
      "Main Menu: \n",
      "1) Login\n",
      "2) Register\n",
      "3) Quit\n",
      "Enter your choice between numbers 1-32\n",
      "Registration Successfull!!\n",
      "Main Menu: \n",
      "1) Login\n",
      "2) Register\n",
      "3) Quit\n",
      "Enter your choice between numbers 1-31\n",
      "Enter your email address: kdhfdfdb@ifhf.oidh\n",
      "Enter your password: paldrub\n",
      "Logged in!\n",
      "User Menu!\n",
      "1) Show all movies!!\n",
      "2) Show Booked Ticket History!!\n",
      "3) Book Ticket\n",
      "4) Quit\n",
      "Enter your choice between 1-4: 1\n",
      "Movie list!!\n",
      "User Menu!\n",
      "1) Show all movies!!\n",
      "2) Show Booked Ticket History!!\n",
      "3) Book Ticket\n",
      "4) Quit\n",
      "Enter your choice between 1-4: 2\n",
      "Show the history!!\n",
      "User Menu!\n",
      "1) Show all movies!!\n",
      "2) Show Booked Ticket History!!\n",
      "3) Book Ticket\n",
      "4) Quit\n",
      "Enter your choice between 1-4: 3\n",
      "Ticket Booked Successfully!!\n",
      "User Menu!\n",
      "1) Show all movies!!\n",
      "2) Show Booked Ticket History!!\n",
      "3) Book Ticket\n",
      "4) Quit\n",
      "Enter your choice between 1-4: 7\n",
      "Enter correct choices between the numbers 1-4\n",
      "User Menu!\n",
      "1) Show all movies!!\n",
      "2) Show Booked Ticket History!!\n",
      "3) Book Ticket\n",
      "4) Quit\n",
      "Enter your choice between 1-4: 4\n",
      "See you next time!!\n",
      "Main Menu: \n",
      "1) Login\n",
      "2) Register\n",
      "3) Quit\n",
      "Enter your choice between numbers 1-38\n",
      "Enter correct choices between the numbers 1-3\n",
      "Main Menu: \n",
      "1) Login\n",
      "2) Register\n",
      "3) Quit\n",
      "Enter your choice between numbers 1-33\n"
     ]
    }
   ],
   "source": [
    "# Agenda:\n",
    "#     1) register\n",
    "#     2) login --> returns true is email and password are correct else return false\n",
    "#     3) add show/movie\n",
    "#     4) book ticket\n",
    "#     5) show booked ticket history\n",
    "#     6) show all the movies\n",
    "# a) class and object\n",
    "# b) functional 🆗\n",
    "\n",
    "# Menu\n",
    "enter = True\n",
    "while enter:\n",
    "    print(\"Main Menu: \")\n",
    "    print(\"1) Login\")\n",
    "    print(\"2) Register\")\n",
    "    print(\"3) Quit\")\n",
    "    val = input(\"Enter your choice between numbers 1-3\")\n",
    "    if val == \"3\":\n",
    "        break\n",
    "    elif val == \"1\":\n",
    "        email = input(\"Enter your email address: \")\n",
    "        paswd = input(\"Enter your password: \")\n",
    "        loginstatus = True\n",
    "        if loginstatus == False:\n",
    "            print(\"Invalid Credentials!!\")\n",
    "        else:\n",
    "            print(\"Logged in!\")\n",
    "        while loginstatus:\n",
    "            print(\"User Menu!\")\n",
    "            print(\"1) Show all movies!!\")\n",
    "            print(\"2) Show Booked Ticket History!!\")\n",
    "            print(\"3) Book Ticket\")\n",
    "            print(\"4) Quit\")\n",
    "            val = input(\"Enter your choice between 1-4: \")\n",
    "            if val == \"4\":\n",
    "                print(\"See you next time!!\")\n",
    "                break\n",
    "            elif val == \"1\":\n",
    "                print(\"Movie list!!\")\n",
    "            elif val == \"2\":\n",
    "                print(\"Show the history!!\")\n",
    "            elif val == \"3\":\n",
    "                print(\"Ticket Booked Successfully!!\")\n",
    "            else:\n",
    "                print(\"Enter correct choices between the numbers 1-4\")\n",
    "    elif val == \"2\":\n",
    "        # Name, password, dob, number, email, gender, age, location\n",
    "        print(\"Registration Successfull!!\")\n",
    "    else:\n",
    "        print(\"Enter correct choices between the numbers 1-3\")"
   ]
  },
  {
   "cell_type": "code",
   "execution_count": 13,
   "id": "0901267d",
   "metadata": {},
   "outputs": [],
   "source": [
    "import json\n",
    "from json import JSONDecodeError\n",
    "def register(user_json, user_id, name, password, age, email, phone): # user_json\n",
    "    \"\"\"\n",
    "    returns True if registration is successful\n",
    "    returns False if registration is unsuccessful\n",
    "    \n",
    "    {\n",
    "    \"user_id\": <id>,\n",
    "    \"name\": <name>,\n",
    "    \"password\": <password>,\n",
    "    \"email\": <email>,\n",
    "    \"phone\": <phn>,\n",
    "    \"age\": <age>,\n",
    "    \"booked shows\": [\"id1\", \"id2\", \"id3\"]  # it will contain the history of the shows user booked\n",
    "    }\n",
    "    \"\"\"\n",
    "    d = {\n",
    "        \"user_id\": user_id,\n",
    "        \"name\": name,\n",
    "        \"password\": password,\n",
    "        \"email\": email,\n",
    "        \"phone\": phone,\n",
    "        \"age\": age,\n",
    "        \"booked shows\": []\n",
    "    }\n",
    "    f = open(user_json, \"r+\")\n",
    "    try:\n",
    "        content = json.load(f) # it is a list\n",
    "        if d not in content:\n",
    "            content.append(d)\n",
    "            f.seek(0)\n",
    "            f.truncate()\n",
    "            json.dump(content,f)\n",
    "            f.close()\n",
    "            return True\n",
    "    except JSONDecodeError:\n",
    "        l = []\n",
    "        l.append(d)\n",
    "        json.dump(l, f)\n",
    "        f.close()\n",
    "        return True\n",
    "    f.close()\n",
    "    return False"
   ]
  },
  {
   "cell_type": "code",
   "execution_count": 14,
   "id": "ca499c1c",
   "metadata": {},
   "outputs": [
    {
     "data": {
      "text/plain": [
       "True"
      ]
     },
     "execution_count": 14,
     "metadata": {},
     "output_type": "execute_result"
    }
   ],
   "source": [
    "register(\"user.json\",\"12548\", \"Anitha\", \"password\", \"20\", \"anitha07@gmail.com\", \"985476821\")"
   ]
  },
  {
   "cell_type": "code",
   "execution_count": 5,
   "id": "478cc9e4",
   "metadata": {},
   "outputs": [
    {
     "name": "stdout",
     "output_type": "stream",
     "text": [
      "\n",
      "    returns True if registration is successful\n",
      "    returns False if registration is unsuccessful\n",
      "    \n",
      "    {\n",
      "    \"user_id\": <id>,\n",
      "    \"name\": <name>,\n",
      "    \"password\": <password>,\n",
      "    \"email\": <email>,\n",
      "    \"phone\": <phn>,\n",
      "    \"age\": <age>,\n",
      "    \"booked shows\": [\"id1\", \"id2\", \"id3\"]\n",
      "    }\n",
      "    \n"
     ]
    }
   ],
   "source": [
    "print(register.__doc__)"
   ]
  },
  {
   "cell_type": "code",
   "execution_count": 6,
   "id": "395cd147",
   "metadata": {},
   "outputs": [
    {
     "name": "stdout",
     "output_type": "stream",
     "text": [
      "Help on function register in module __main__:\n",
      "\n",
      "register()\n",
      "    returns True if registration is successful\n",
      "    returns False if registration is unsuccessful\n",
      "    \n",
      "    {\n",
      "    \"user_id\": <id>,\n",
      "    \"name\": <name>,\n",
      "    \"password\": <password>,\n",
      "    \"email\": <email>,\n",
      "    \"phone\": <phn>,\n",
      "    \"age\": <age>,\n",
      "    \"booked shows\": [\"id1\", \"id2\", \"id3\"]\n",
      "    }\n",
      "\n"
     ]
    }
   ],
   "source": [
    "help(register)"
   ]
  },
  {
   "cell_type": "code",
   "execution_count": 7,
   "id": "de087a62",
   "metadata": {},
   "outputs": [],
   "source": [
    "f = open(\"user.json\", \"r+\")"
   ]
  },
  {
   "cell_type": "code",
   "execution_count": 8,
   "id": "1696eb03",
   "metadata": {},
   "outputs": [
    {
     "ename": "JSONDecodeError",
     "evalue": "Expecting value: line 1 column 1 (char 0)",
     "output_type": "error",
     "traceback": [
      "\u001b[1;31m---------------------------------------------------------------------------\u001b[0m",
      "\u001b[1;31mJSONDecodeError\u001b[0m                           Traceback (most recent call last)",
      "\u001b[1;32mC:\\Users\\KUNALC~1\\AppData\\Local\\Temp/ipykernel_33560/863859390.py\u001b[0m in \u001b[0;36m<module>\u001b[1;34m\u001b[0m\n\u001b[0;32m      1\u001b[0m \u001b[1;32mimport\u001b[0m \u001b[0mjson\u001b[0m\u001b[1;33m\u001b[0m\u001b[1;33m\u001b[0m\u001b[0m\n\u001b[1;32m----> 2\u001b[1;33m \u001b[0mcontent\u001b[0m \u001b[1;33m=\u001b[0m \u001b[0mjson\u001b[0m\u001b[1;33m.\u001b[0m\u001b[0mload\u001b[0m\u001b[1;33m(\u001b[0m\u001b[0mf\u001b[0m\u001b[1;33m)\u001b[0m\u001b[1;33m\u001b[0m\u001b[1;33m\u001b[0m\u001b[0m\n\u001b[0m",
      "\u001b[1;32m~\\AppData\\Local\\Programs\\Python\\Python39\\lib\\json\\__init__.py\u001b[0m in \u001b[0;36mload\u001b[1;34m(fp, cls, object_hook, parse_float, parse_int, parse_constant, object_pairs_hook, **kw)\u001b[0m\n\u001b[0;32m    291\u001b[0m     \u001b[0mkwarg\u001b[0m\u001b[1;33m;\u001b[0m \u001b[0motherwise\u001b[0m\u001b[0;31m \u001b[0m\u001b[0;31m`\u001b[0m\u001b[0;31m`\u001b[0m\u001b[0mJSONDecoder\u001b[0m\u001b[0;31m`\u001b[0m\u001b[0;31m`\u001b[0m \u001b[1;32mis\u001b[0m \u001b[0mused\u001b[0m\u001b[1;33m.\u001b[0m\u001b[1;33m\u001b[0m\u001b[1;33m\u001b[0m\u001b[0m\n\u001b[0;32m    292\u001b[0m     \"\"\"\n\u001b[1;32m--> 293\u001b[1;33m     return loads(fp.read(),\n\u001b[0m\u001b[0;32m    294\u001b[0m         \u001b[0mcls\u001b[0m\u001b[1;33m=\u001b[0m\u001b[0mcls\u001b[0m\u001b[1;33m,\u001b[0m \u001b[0mobject_hook\u001b[0m\u001b[1;33m=\u001b[0m\u001b[0mobject_hook\u001b[0m\u001b[1;33m,\u001b[0m\u001b[1;33m\u001b[0m\u001b[1;33m\u001b[0m\u001b[0m\n\u001b[0;32m    295\u001b[0m         \u001b[0mparse_float\u001b[0m\u001b[1;33m=\u001b[0m\u001b[0mparse_float\u001b[0m\u001b[1;33m,\u001b[0m \u001b[0mparse_int\u001b[0m\u001b[1;33m=\u001b[0m\u001b[0mparse_int\u001b[0m\u001b[1;33m,\u001b[0m\u001b[1;33m\u001b[0m\u001b[1;33m\u001b[0m\u001b[0m\n",
      "\u001b[1;32m~\\AppData\\Local\\Programs\\Python\\Python39\\lib\\json\\__init__.py\u001b[0m in \u001b[0;36mloads\u001b[1;34m(s, cls, object_hook, parse_float, parse_int, parse_constant, object_pairs_hook, **kw)\u001b[0m\n\u001b[0;32m    344\u001b[0m             \u001b[0mparse_int\u001b[0m \u001b[1;32mis\u001b[0m \u001b[1;32mNone\u001b[0m \u001b[1;32mand\u001b[0m \u001b[0mparse_float\u001b[0m \u001b[1;32mis\u001b[0m \u001b[1;32mNone\u001b[0m \u001b[1;32mand\u001b[0m\u001b[1;33m\u001b[0m\u001b[1;33m\u001b[0m\u001b[0m\n\u001b[0;32m    345\u001b[0m             parse_constant is None and object_pairs_hook is None and not kw):\n\u001b[1;32m--> 346\u001b[1;33m         \u001b[1;32mreturn\u001b[0m \u001b[0m_default_decoder\u001b[0m\u001b[1;33m.\u001b[0m\u001b[0mdecode\u001b[0m\u001b[1;33m(\u001b[0m\u001b[0ms\u001b[0m\u001b[1;33m)\u001b[0m\u001b[1;33m\u001b[0m\u001b[1;33m\u001b[0m\u001b[0m\n\u001b[0m\u001b[0;32m    347\u001b[0m     \u001b[1;32mif\u001b[0m \u001b[0mcls\u001b[0m \u001b[1;32mis\u001b[0m \u001b[1;32mNone\u001b[0m\u001b[1;33m:\u001b[0m\u001b[1;33m\u001b[0m\u001b[1;33m\u001b[0m\u001b[0m\n\u001b[0;32m    348\u001b[0m         \u001b[0mcls\u001b[0m \u001b[1;33m=\u001b[0m \u001b[0mJSONDecoder\u001b[0m\u001b[1;33m\u001b[0m\u001b[1;33m\u001b[0m\u001b[0m\n",
      "\u001b[1;32m~\\AppData\\Local\\Programs\\Python\\Python39\\lib\\json\\decoder.py\u001b[0m in \u001b[0;36mdecode\u001b[1;34m(self, s, _w)\u001b[0m\n\u001b[0;32m    335\u001b[0m \u001b[1;33m\u001b[0m\u001b[0m\n\u001b[0;32m    336\u001b[0m         \"\"\"\n\u001b[1;32m--> 337\u001b[1;33m         \u001b[0mobj\u001b[0m\u001b[1;33m,\u001b[0m \u001b[0mend\u001b[0m \u001b[1;33m=\u001b[0m \u001b[0mself\u001b[0m\u001b[1;33m.\u001b[0m\u001b[0mraw_decode\u001b[0m\u001b[1;33m(\u001b[0m\u001b[0ms\u001b[0m\u001b[1;33m,\u001b[0m \u001b[0midx\u001b[0m\u001b[1;33m=\u001b[0m\u001b[0m_w\u001b[0m\u001b[1;33m(\u001b[0m\u001b[0ms\u001b[0m\u001b[1;33m,\u001b[0m \u001b[1;36m0\u001b[0m\u001b[1;33m)\u001b[0m\u001b[1;33m.\u001b[0m\u001b[0mend\u001b[0m\u001b[1;33m(\u001b[0m\u001b[1;33m)\u001b[0m\u001b[1;33m)\u001b[0m\u001b[1;33m\u001b[0m\u001b[1;33m\u001b[0m\u001b[0m\n\u001b[0m\u001b[0;32m    338\u001b[0m         \u001b[0mend\u001b[0m \u001b[1;33m=\u001b[0m \u001b[0m_w\u001b[0m\u001b[1;33m(\u001b[0m\u001b[0ms\u001b[0m\u001b[1;33m,\u001b[0m \u001b[0mend\u001b[0m\u001b[1;33m)\u001b[0m\u001b[1;33m.\u001b[0m\u001b[0mend\u001b[0m\u001b[1;33m(\u001b[0m\u001b[1;33m)\u001b[0m\u001b[1;33m\u001b[0m\u001b[1;33m\u001b[0m\u001b[0m\n\u001b[0;32m    339\u001b[0m         \u001b[1;32mif\u001b[0m \u001b[0mend\u001b[0m \u001b[1;33m!=\u001b[0m \u001b[0mlen\u001b[0m\u001b[1;33m(\u001b[0m\u001b[0ms\u001b[0m\u001b[1;33m)\u001b[0m\u001b[1;33m:\u001b[0m\u001b[1;33m\u001b[0m\u001b[1;33m\u001b[0m\u001b[0m\n",
      "\u001b[1;32m~\\AppData\\Local\\Programs\\Python\\Python39\\lib\\json\\decoder.py\u001b[0m in \u001b[0;36mraw_decode\u001b[1;34m(self, s, idx)\u001b[0m\n\u001b[0;32m    353\u001b[0m             \u001b[0mobj\u001b[0m\u001b[1;33m,\u001b[0m \u001b[0mend\u001b[0m \u001b[1;33m=\u001b[0m \u001b[0mself\u001b[0m\u001b[1;33m.\u001b[0m\u001b[0mscan_once\u001b[0m\u001b[1;33m(\u001b[0m\u001b[0ms\u001b[0m\u001b[1;33m,\u001b[0m \u001b[0midx\u001b[0m\u001b[1;33m)\u001b[0m\u001b[1;33m\u001b[0m\u001b[1;33m\u001b[0m\u001b[0m\n\u001b[0;32m    354\u001b[0m         \u001b[1;32mexcept\u001b[0m \u001b[0mStopIteration\u001b[0m \u001b[1;32mas\u001b[0m \u001b[0merr\u001b[0m\u001b[1;33m:\u001b[0m\u001b[1;33m\u001b[0m\u001b[1;33m\u001b[0m\u001b[0m\n\u001b[1;32m--> 355\u001b[1;33m             \u001b[1;32mraise\u001b[0m \u001b[0mJSONDecodeError\u001b[0m\u001b[1;33m(\u001b[0m\u001b[1;34m\"Expecting value\"\u001b[0m\u001b[1;33m,\u001b[0m \u001b[0ms\u001b[0m\u001b[1;33m,\u001b[0m \u001b[0merr\u001b[0m\u001b[1;33m.\u001b[0m\u001b[0mvalue\u001b[0m\u001b[1;33m)\u001b[0m \u001b[1;32mfrom\u001b[0m \u001b[1;32mNone\u001b[0m\u001b[1;33m\u001b[0m\u001b[1;33m\u001b[0m\u001b[0m\n\u001b[0m\u001b[0;32m    356\u001b[0m         \u001b[1;32mreturn\u001b[0m \u001b[0mobj\u001b[0m\u001b[1;33m,\u001b[0m \u001b[0mend\u001b[0m\u001b[1;33m\u001b[0m\u001b[1;33m\u001b[0m\u001b[0m\n",
      "\u001b[1;31mJSONDecodeError\u001b[0m: Expecting value: line 1 column 1 (char 0)"
     ]
    }
   ],
   "source": [
    "import json\n",
    "content = json.load(f)"
   ]
  },
  {
   "cell_type": "code",
   "execution_count": 9,
   "id": "6e257f4d",
   "metadata": {},
   "outputs": [],
   "source": [
    "f.close()"
   ]
  },
  {
   "cell_type": "code",
   "execution_count": null,
   "id": "504d5fbc",
   "metadata": {},
   "outputs": [],
   "source": []
  }
 ],
 "metadata": {
  "kernelspec": {
   "display_name": "Python 3 (ipykernel)",
   "language": "python",
   "name": "python3"
  },
  "language_info": {
   "codemirror_mode": {
    "name": "ipython",
    "version": 3
   },
   "file_extension": ".py",
   "mimetype": "text/x-python",
   "name": "python",
   "nbconvert_exporter": "python",
   "pygments_lexer": "ipython3",
   "version": "3.9.7"
  }
 },
 "nbformat": 4,
 "nbformat_minor": 5
}
