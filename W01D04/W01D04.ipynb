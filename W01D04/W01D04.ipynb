{
 "cells": [
  {
   "cell_type": "code",
   "execution_count": null,
   "id": "2e7071b3",
   "metadata": {},
   "outputs": [],
   "source": [
    "import json\n",
    "from json import JSONDecodeError\n",
    "def create_regimen(regimen_json, BMI):\n",
    "    \"\"\"\n",
    "    [{\"Mon\": \"Chest\",\"Tue\": \"Bicep\", \"Wed\": \"Rest\"}, {\"Mon\": \"Chest\", \"Tue\": \"Biceps\", \"Wed\": \"Cardio\"}]\n",
    "    \"\"\"\n",
    "    f=open(regimen_json, \"r+\")\n",
    "    try:\n",
    "        content=json.load(f)\n",
    "        f.close()\n",
    "        if BMI <= 18.5:\n",
    "            return content[0]\n",
    "        elif BMI<25:\n",
    "            return content[1]\n",
    "        ...\n",
    "    except JSONDecodeError:\n",
    "        # when the regimen json will be empty\n",
    "        l=[]\n",
    "        d={\"Mon\": \"Chest\",\n",
    "          \"Tue\": \"Bicep\",\n",
    "          \"Wed\": \"Rest\"}\n",
    "        l.append(d)\n",
    "        d={\n",
    "          \"Mon\": \"Chest\",\n",
    "          \"Tue\": \"Bicep\",\n",
    "          \"Wed\": \"Cardio\"\n",
    "        }\n",
    "        l.append(d)\n",
    "        json.dump(l,f)\n",
    "        f.close()\n",
    "        if BMI < 18.5:\n",
    "            return l[0]\n",
    "        elif BMI< 25:\n",
    "            return l[1]"
   ]
  }
 ],
 "metadata": {
  "kernelspec": {
   "display_name": "Python 3 (ipykernel)",
   "language": "python",
   "name": "python3"
  },
  "language_info": {
   "codemirror_mode": {
    "name": "ipython",
    "version": 3
   },
   "file_extension": ".py",
   "mimetype": "text/x-python",
   "name": "python",
   "nbconvert_exporter": "python",
   "pygments_lexer": "ipython3",
   "version": "3.9.7"
  }
 },
 "nbformat": 4,
 "nbformat_minor": 5
}
